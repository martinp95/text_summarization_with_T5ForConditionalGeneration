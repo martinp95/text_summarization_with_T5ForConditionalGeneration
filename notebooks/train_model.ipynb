{
 "cells": [
  {
   "cell_type": "code",
   "execution_count": 1,
   "metadata": {},
   "outputs": [],
   "source": [
    "import sys\n",
    "import os\n",
    "\n",
    "sys.path.append(os.path.abspath(os.path.join('..', 'src')))"
   ]
  },
  {
   "cell_type": "code",
   "execution_count": 2,
   "metadata": {},
   "outputs": [],
   "source": [
    "# Import necessary libraries\n",
    "from training import SummarizationDataLoader, Summarizer\n",
    "\n",
    "import torch\n",
    "from pytorch_lightning.callbacks import ModelCheckpoint, EarlyStopping\n",
    "from pytorch_lightning import Trainer"
   ]
  },
  {
   "cell_type": "code",
   "execution_count": 3,
   "metadata": {},
   "outputs": [],
   "source": [
    "# Define los callbacks\n",
    "checkpoint_callback = ModelCheckpoint(\n",
    "    monitor='val_loss',\n",
    "    dirpath='../checkpoints/',  # Ruta donde se guardarán los modelos\n",
    "    filename='best-checkpoint',\n",
    "    save_top_k=1,\n",
    "    mode='min'\n",
    ")\n",
    "\n",
    "early_stopping_callback = EarlyStopping(\n",
    "    monitor='val_loss',\n",
    "    patience=3,\n",
    "    mode='min'\n",
    ")"
   ]
  },
  {
   "cell_type": "code",
   "execution_count": null,
   "metadata": {},
   "outputs": [],
   "source": [
    "data_module = SummarizationDataLoader(batch_size=8)\n",
    "model = Summarizer()"
   ]
  },
  {
   "cell_type": "code",
   "execution_count": null,
   "metadata": {},
   "outputs": [],
   "source": [
    "# Inicializa el entrenador con los callbacks\n",
    "trainer = Trainer(\n",
    "    max_epochs=10,\n",
    "    callbacks=[checkpoint_callback, early_stopping_callback],\n",
    "    devices=1 if torch.cuda.is_available() else 1,\n",
    "    accelerator=\"gpu\" if torch.cuda.is_available() else \"cpu\"\n",
    ")\n",
    "\n",
    "# Entrena el modelo\n",
    "trainer.fit(model, datamodule=data_module)"
   ]
  },
  {
   "cell_type": "code",
   "execution_count": null,
   "metadata": {},
   "outputs": [],
   "source": [
    "# Para cargar el mejor modelo guardado\n",
    "best_model_path = checkpoint_callback.best_model_path\n",
    "\n",
    "# Cargar el modelo desde el checkpoint\n",
    "model = Summarizer.load_from_checkpoint(best_model_path)\n",
    "\n",
    "print(f\"El mejor modelo se ha guardado en: {best_model_path}\")"
   ]
  },
  {
   "cell_type": "code",
   "execution_count": null,
   "metadata": {},
   "outputs": [],
   "source": [
    "# Asegúrate de que el modelo esté en modo de evaluación\n",
    "model.eval()\n",
    "\n",
    "# Ejemplo de uso del modelo para hacer predicciones\n",
    "# Supongamos que tienes una función de preprocesamiento y un texto de entrada\n",
    "def preprocess(text):\n",
    "    # Implementa la lógica de preprocesamiento aquí\n",
    "    return text\n",
    "\n",
    "input_text = \"Este es un texto de ejemplo para resumir.\"\n",
    "preprocessed_text = preprocess(input_text)\n",
    "\n",
    "# Convertir el texto preprocesado a un tensor\n",
    "input_tensor = torch.tensor(preprocessed_text)\n",
    "\n",
    "# Hacer una predicción\n",
    "with torch.no_grad():\n",
    "    summary = model(input_tensor)\n",
    "\n",
    "print(\"Resumen:\", summary)"
   ]
  }
 ],
 "metadata": {
  "kernelspec": {
   "display_name": "text_summarization_with_T5ForConditionalGeneration",
   "language": "python",
   "name": "python3"
  },
  "language_info": {
   "codemirror_mode": {
    "name": "ipython",
    "version": 3
   },
   "file_extension": ".py",
   "mimetype": "text/x-python",
   "name": "python",
   "nbconvert_exporter": "python",
   "pygments_lexer": "ipython3",
   "version": "3.11.11"
  }
 },
 "nbformat": 4,
 "nbformat_minor": 2
}
