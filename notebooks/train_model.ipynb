{
 "cells": [
  {
   "cell_type": "markdown",
   "metadata": {},
   "source": [
    "# Training T5 Model for Text Summarization\n",
    "\n",
    "This notebook demonstrates how to train a T5 model for text summarization using PyTorch Lightning. We will use the `SummarizationDataLoader` class to load and process the dataset and the `Summarizer` class to define the model."
   ]
  },
  {
   "cell_type": "code",
   "execution_count": 1,
   "metadata": {},
   "outputs": [],
   "source": [
    "# Import necessary libraries and set up the environment\n",
    "import sys\n",
    "import os\n",
    "\n",
    "# Add the src directory to the system path\n",
    "sys.path.append(os.path.abspath(os.path.join('..', 'src')))"
   ]
  },
  {
   "cell_type": "code",
   "execution_count": 2,
   "metadata": {},
   "outputs": [],
   "source": [
    "# Import the DataLoader and Summarizer classes\n",
    "from training import SummarizationDataLoader, Summarizer\n",
    "\n",
    "# Import PyTorch and PyTorch Lightning libraries\n",
    "import torch\n",
    "from pytorch_lightning.callbacks import ModelCheckpoint, EarlyStopping\n",
    "from pytorch_lightning import Trainer"
   ]
  },
  {
   "cell_type": "markdown",
   "metadata": {},
   "source": [
    "## Define Callbacks\n",
    "\n",
    "We will define two callbacks:\n",
    "- `ModelCheckpoint`: Saves the best model based on the validation loss.\n",
    "- `EarlyStopping`: Stops training if the validation loss does not improve for a specified number of epochs."
   ]
  },
  {
   "cell_type": "code",
   "execution_count": 3,
   "metadata": {},
   "outputs": [],
   "source": [
    "# Define the ModelCheckpoint callback\n",
    "checkpoint_callback = ModelCheckpoint(\n",
    "    monitor='val_loss',\n",
    "    dirpath='../checkpoints/',  # Path to save the models\n",
    "    filename='best-checkpoint',\n",
    "    save_top_k=1,\n",
    "    mode='min'\n",
    ")\n",
    "\n",
    "# Define the EarlyStopping callback\n",
    "early_stopping_callback = EarlyStopping(\n",
    "    monitor='val_loss',\n",
    "    patience=3,\n",
    "    mode='min'\n",
    ")"
   ]
  },
  {
   "cell_type": "markdown",
   "metadata": {},
   "source": [
    "## Initialize DataLoader and Model\n",
    "\n",
    "We will initialize the `SummarizationDataLoader` with a batch size of 8 and the `Summarizer` model."
   ]
  },
  {
   "cell_type": "code",
   "execution_count": null,
   "metadata": {},
   "outputs": [],
   "source": [
    "# Initialize the DataLoader with batch size 8\n",
    "data_module = SummarizationDataLoader(batch_size=8)\n",
    "\n",
    "# Initialize the Summarizer model\n",
    "model = Summarizer()"
   ]
  },
  {
   "cell_type": "markdown",
   "metadata": {},
   "source": [
    "## Train the Model\n",
    "\n",
    "We will set up the `Trainer` with the defined callbacks and train the model for a maximum of 10 epochs."
   ]
  },
  {
   "cell_type": "code",
   "execution_count": null,
   "metadata": {},
   "outputs": [],
   "source": [
    "# Initialize the Trainer with the callbacks\n",
    "trainer = Trainer(\n",
    "    max_epochs=10,\n",
    "    callbacks=[checkpoint_callback, early_stopping_callback],\n",
    "    devices=1 if torch.cuda.is_available() else 1,\n",
    "    accelerator=\"gpu\" if torch.cuda.is_available() else \"cpu\"\n",
    ")\n",
    "\n",
    "# Set the model to training mode\n",
    "model.train()\n",
    "\n",
    "# Train the model\n",
    "trainer.fit(model, datamodule=data_module)"
   ]
  },
  {
   "cell_type": "markdown",
   "metadata": {},
   "source": [
    "## Load the Best Model\n",
    "\n",
    "After training, we will load the best model saved during training."
   ]
  },
  {
   "cell_type": "code",
   "execution_count": null,
   "metadata": {},
   "outputs": [],
   "source": [
    "# Load the best model checkpoint\n",
    "best_model_path = checkpoint_callback.best_model_path\n",
    "\n",
    "# Load the model from the checkpoint\n",
    "model = Summarizer.load_from_checkpoint(best_model_path)\n",
    "\n",
    "print(f\"The best model has been saved at: {best_model_path}\")"
   ]
  },
  {
   "cell_type": "markdown",
   "metadata": {},
   "source": [
    "## Evaluate the Model\n",
    "\n",
    "We will ensure the model is in evaluation mode and demonstrate how to use it for making predictions."
   ]
  },
  {
   "cell_type": "code",
   "execution_count": null,
   "metadata": {},
   "outputs": [],
   "source": [
    "# Set the model to evaluation mode\n",
    "model.eval()\n",
    "\n",
    "# Example function for preprocessing input text\n",
    "def preprocess(text):\n",
    "    # Implement preprocessing logic here\n",
    "    return text\n",
    "\n",
    "# Example input text for summarization\n",
    "input_text = \"This is an example text to summarize.\"\n",
    "preprocessed_text = preprocess(input_text)\n",
    "\n",
    "# Convert the preprocessed text to a tensor\n",
    "input_tensor = torch.tensor(preprocessed_text)\n",
    "\n",
    "# Make a prediction\n",
    "with torch.no_grad():\n",
    "    summary = model(input_tensor)\n",
    "\n",
    "print(\"Summary:\", summary)"
   ]
  }
 ],
 "metadata": {
  "kernelspec": {
   "display_name": "text_summarization_with_T5ForConditionalGeneration",
   "language": "python",
   "name": "python3"
  },
  "language_info": {
   "codemirror_mode": {
    "name": "ipython",
    "version": 3
   },
   "file_extension": ".py",
   "mimetype": "text/x-python",
   "name": "python",
   "nbconvert_exporter": "python",
   "pygments_lexer": "ipython3",
   "version": "3.11.11"
  }
 },
 "nbformat": 4,
 "nbformat_minor": 2
}
