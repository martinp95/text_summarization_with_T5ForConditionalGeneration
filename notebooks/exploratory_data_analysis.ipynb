{
 "cells": [
  {
   "cell_type": "markdown",
   "metadata": {},
   "source": [
    "# Text Summarization with T5\n",
    "This notebook demonstrates how to use the `DataLoader` class to load and process datasets for text summarization using the T5 model."
   ]
  },
  {
   "cell_type": "code",
   "execution_count": 1,
   "metadata": {},
   "outputs": [],
   "source": [
    "import sys\n",
    "import os\n",
    "\n",
    "sys.path.append(os.path.abspath(os.path.join('..', 'src')))"
   ]
  },
  {
   "cell_type": "code",
   "execution_count": 2,
   "metadata": {},
   "outputs": [],
   "source": [
    "# Import necessary libraries\n",
    "from training import SummarizationDataLoader"
   ]
  },
  {
   "cell_type": "markdown",
   "metadata": {},
   "source": [
    "## Initialize DataLoader\n",
    "We initialize the `DataLoader` with the dataset name, tokenizer name, and batch size."
   ]
  },
  {
   "cell_type": "code",
   "execution_count": 3,
   "metadata": {},
   "outputs": [
    {
     "name": "stderr",
     "output_type": "stream",
     "text": [
      "You are using the default legacy behaviour of the <class 'transformers.models.t5.tokenization_t5.T5Tokenizer'>. This is expected, and simply means that the `legacy` (previous) behavior will be used so nothing changes for you. If you want to use the new behaviour, set `legacy=False`. This should only be set if you understand what it means, and thoroughly read the reason why this was added as explained in https://github.com/huggingface/transformers/pull/24565\n"
     ]
    }
   ],
   "source": [
    "# Initialize DataLoader\n",
    "dataset_name = 'FiscalNote/billsum'\n",
    "tokenizer_name = 't5-small'\n",
    "batch_size = 4\n",
    "\n",
    "data_loader = SummarizationDataLoader(\n",
    "    dataset_name=dataset_name, tokenizer_name=tokenizer_name, batch_size=batch_size)"
   ]
  },
  {
   "cell_type": "markdown",
   "metadata": {},
   "source": [
    "## Prepare Data\n",
    "Load the dataset specified by the `dataset_name` attribute."
   ]
  },
  {
   "cell_type": "code",
   "execution_count": 4,
   "metadata": {},
   "outputs": [],
   "source": [
    "# Prepare data\n",
    "data_loader.prepare_data()"
   ]
  },
  {
   "cell_type": "markdown",
   "metadata": {},
   "source": [
    "Explore train example"
   ]
  },
  {
   "cell_type": "code",
   "execution_count": 5,
   "metadata": {},
   "outputs": [
    {
     "data": {
      "text/plain": [
       "{'text': \"SECTION 1. LIABILITY OF BUSINESS ENTITIES PROVIDING USE OF FACILITIES \\n              TO NONPROFIT ORGANIZATIONS.\\n\\n    (a) Definitions.--In this section:\\n            (1) Business entity.--The term ``business entity'' means a \\n        firm, corporation, association, partnership, consortium, joint \\n        venture, or other form of enterprise.\\n            (2) Facility.--The term ``facility'' means any real \\n        property, including any building, improvement, or appurtenance.\\n            (3) Gross negligence.--The term ``gross negligence'' means \\n        voluntary and conscious conduct by a person with knowledge (at \\n        the time of the conduct) that the conduct is likely to be \\n        harmful to the health or well-being of another person.\\n            (4) Intentional misconduct.--The term ``intentional \\n        misconduct'' means conduct by a person with knowledge (at the \\n        time of the conduct) that the conduct is harmful to the health \\n        or well-being of another person.\\n            (5) Nonprofit organization.--The term ``nonprofit \\n        organization'' means--\\n                    (A) any organization described in section 501(c)(3) \\n                of the Internal Revenue Code of 1986 and exempt from \\n                tax under section 501(a) of such Code; or\\n                    (B) any not-for-profit organization organized and \\n                conducted for public benefit and operated primarily for \\n                charitable, civic, educational, religious, welfare, or \\n                health purposes.\\n            (6) State.--The term ``State'' means each of the several \\n        States, the District of Columbia, the Commonwealth of Puerto \\n        Rico, the Virgin Islands, Guam, American Samoa, the Northern \\n        Mariana Islands, any other territory or possession of the \\n        United States, or any political subdivision of any such State, \\n        territory, or possession.\\n    (b) Limitation on Liability.--\\n            (1) In general.--Subject to subsection (c), a business \\n        entity shall not be subject to civil liability relating to any \\n        injury or death occurring at a facility of the business entity \\n        in connection with a use of such facility by a nonprofit \\n        organization if--\\n                    (A) the use occurs outside of the scope of business \\n                of the business entity;\\n                    (B) such injury or death occurs during a period \\n                that such facility is used by the nonprofit \\n                organization; and\\n                    (C) the business entity authorized the use of such \\n                facility by the nonprofit organization.\\n            (2) Application.--This subsection shall apply--\\n                    (A) with respect to civil liability under Federal \\n                and State law; and\\n                    (B) regardless of whether a nonprofit organization \\n                pays for the use of a facility.\\n    (c) Exception for Liability.--Subsection (b) shall not apply to an \\ninjury or death that results from an act or omission of a business \\nentity that constitutes gross negligence or intentional misconduct, \\nincluding any misconduct that--\\n            (1) constitutes a crime of violence (as that term is \\n        defined in section 16 of title 18, United States Code) or act \\n        of international terrorism (as that term is defined in section \\n        2331 of title 18) for which the defendant has been convicted in \\n        any court;\\n            (2) constitutes a hate crime (as that term is used in the \\n        Hate Crime Statistics Act (28 U.S.C. 534 note));\\n            (3) involves a sexual offense, as defined by applicable \\n        State law, for which the defendant has been convicted in any \\n        court; or\\n            (4) involves misconduct for which the defendant has been \\n        found to have violated a Federal or State civil rights law.\\n    (d) Superseding Provision.--\\n            (1) In general.--Subject to paragraph (2) and subsection \\n        (e), this Act preempts the laws of any State to the extent that \\n        such laws are inconsistent with this Act, except that this Act \\n        shall not preempt any State law that provides additional \\n        protection from liability for a business entity for an injury \\n        or death with respect to which conditions under subparagraphs \\n        (A) through (C) of subsection (b)(1) apply.\\n            (2) Limitation.--Nothing in this Act shall be construed to \\n        supersede any Federal or State health or safety law.\\n    (e) Election of State Regarding Nonapplicability.--This Act shall \\nnot apply to any civil action in a State court against a business \\nentity in which all parties are citizens of the State if such State \\nenacts a statute--\\n            (1) citing the authority of this subsection;\\n            (2) declaring the election of such State that this Act \\n        shall not apply to such civil action in the State; and\\n            (3) containing no other provision.\",\n",
       " 'summary': \"Shields a business entity from civil liability relating to any injury or death occurring at a facility of that entity in connection with a use of such facility by a nonprofit organization if: (1) the use occurs outside the scope of business of the business entity; (2) such injury or death occurs during a period that such facility is used by such organization; and (3) the business entity authorized the use of such facility by the organization. \\nMakes this Act inapplicable to an injury or death that results from an act or omission of a business entity that constitutes gross negligence or intentional misconduct, including misconduct that: (1) constitutes a hate crime or a crime of violence or act of international terrorism for which the defendant has been convicted in any court; or (2) involves a sexual offense for which the defendant has been convicted in any court or misconduct for which the defendant has been found to have violated a Federal or State civil rights law. \\nPreempts State laws to the extent that such laws are inconsistent with this Act, except State law that provides additional protection from liability.  Specifies that this Act shall not be construed to supersede any Federal or State health or safety law. \\nMakes this Act inapplicable to any civil action in a State court against a business entity in which all parties are citizens of the State if such State, citing this Act's authority and containing no other provision, enacts a statute declaring the State's election that this Act shall not apply to such action in the State.\",\n",
       " 'title': 'A bill to limit the civil liability of business entities providing use of facilities to nonprofit organizations.'}"
      ]
     },
     "execution_count": 5,
     "metadata": {},
     "output_type": "execute_result"
    }
   ],
   "source": [
    "data_loader.dataset[\"train\"][0]"
   ]
  },
  {
   "cell_type": "markdown",
   "metadata": {},
   "source": [
    "## Setup DataLoaders\n",
    "Set up the train, validation, and test datasets."
   ]
  },
  {
   "cell_type": "code",
   "execution_count": 6,
   "metadata": {},
   "outputs": [],
   "source": [
    "# Setup DataLoaders\n",
    "data_loader.setup()"
   ]
  },
  {
   "cell_type": "markdown",
   "metadata": {},
   "source": [
    "## Create DataLoaders\n",
    "Create DataLoaders for training, validation, and testing."
   ]
  },
  {
   "cell_type": "code",
   "execution_count": 7,
   "metadata": {},
   "outputs": [],
   "source": [
    "# Create DataLoaders\n",
    "train_dataloader = data_loader.train_dataloader()\n",
    "val_dataloader = data_loader.val_dataloader()\n",
    "test_dataloader = data_loader.test_dataloader()"
   ]
  },
  {
   "cell_type": "markdown",
   "metadata": {},
   "source": [
    "## Visualize Examples\n",
    "Visualize some examples from the training dataset."
   ]
  },
  {
   "cell_type": "code",
   "execution_count": 8,
   "metadata": {},
   "outputs": [
    {
     "name": "stdout",
     "output_type": "stream",
     "text": [
      "{'input_ids': tensor([[ 180, 3073, 9562,  ...,    0,    0,    0],\n",
      "        [ 180, 3073, 9562,  ..., 2156,    8,    1],\n",
      "        [ 180, 3073, 9562,  ..., 1866,   57,    1],\n",
      "        [ 180, 3073, 9562,  ..., 1461, 1381,    1]]), 'attention_mask': tensor([[1, 1, 1,  ..., 0, 0, 0],\n",
      "        [1, 1, 1,  ..., 1, 1, 1],\n",
      "        [1, 1, 1,  ..., 1, 1, 1],\n",
      "        [1, 1, 1,  ..., 1, 1, 1]]), 'labels': tensor([[ 4804,  8804,     7,     3,     9,   268, 10409,    45,  3095,  6283,\n",
      "             3,  8321,    12,   136,  2871,    42,  1687, 16198,    44,     3,\n",
      "             9,  3064,    13,    24, 10409,    16,  2135,    28,     3,     9,\n",
      "           169,    13,   224,  3064,    57,     3,     9, 11069,  1470,     3,\n",
      "            99,    10,  5637,     8,   169,  6986,  1067,     8,  7401,    13,\n",
      "           268,    13,     8,   268, 10409,   117,  6499,   224,  2871,    42,\n",
      "          1687,  6986,   383,     3,     9,  1059,    24,   224,  3064,    19,\n",
      "           261,    57,   224,  1470,   117,    11, 10153,     8,   268, 10409,\n",
      "         11330,     8,   169,    13,   224,  3064,    57,     8,  1470,     5,\n",
      "          1796,     7,    48,  1983,    16, 27515,    75,   179,    12,    46,\n",
      "          2871,    42,  1687,    24,   772,    45,    46,  1810,    42,     3,\n",
      "            32,  5451,    13,     3,     9,   268, 10409,    24, 11708,     7,\n",
      "          8690, 19360,    42, 24768, 28742,     6,   379,     1],\n",
      "        [ 3892, 10226,  2784,  1983,     3,    18,   419,  1169,    60,     7,\n",
      "           824,  5034,  4299,    12,  2862,    11,  7958,    66,   936,  2166,\n",
      "          3187,  1918,  1087, 16198,    16, 25527,    11, 11772,    26,  2414,\n",
      "             7,   227, 21930,    21,    20,  4057,  2420,    11, 12508,  3659,\n",
      "             6,    11,    12,   143,   135,   347,    12,     8,   452,     5,\n",
      "            86,  7593,     7,     8,  1661,    12,   934,    12,  4442,  1918,\n",
      "          3193,  5856,     5,  1266, 19308,     7,  5749,   365,    84,     8,\n",
      "          3037,   545, 11298,  3684,  4501,  2420,     3, 29641,  9871,  1522,\n",
      "          1132,  3193, 11444,     7,    12,   442,  5041,    15,   452, 12508,\n",
      "            13,   136,   936,  2166,  1368,     5, 10236,  1737,     7,   442,\n",
      "          5041,  1194,    13,   224,   452, 12508,     7,    30,  7173,  9808,\n",
      "             5,   419,  1169,    60,     7,   136,   412,     5,   134,     5,\n",
      "          3193,     6,  1286,  1690,    57,    46, 10409,     1],\n",
      "        [26868, 17461,  8192,  2528,  1528, 15589,  1983,     3,    18,  7143,\n",
      "             7,     8,  7471,    13,     8, 20792,    12,    10,  5637, 13983,\n",
      "            11,   962,    80,    18, 26748,  4294, 10579, 26919,  6049,    13,\n",
      "         26868, 17461,    16, 18681,    23,   106,    13,     8,   943,   189,\n",
      "          7685,    13,     8,  7814,    13,     8,   945, 12515,    16,   779,\n",
      "          5533,  9600,   117,    11,  6499, 10973,   244,  7993, 14942,    12,\n",
      "             8, 26868, 17461,  2941,    12,  3391,   165,  1073,    11,  4192,\n",
      "          2843,  1356,     6,    11,   993,     8,  5576,    13, 19397,    21,\n",
      "         24367,     3, 30801,  4192,     7,     5,     1,  -100,  -100,  -100,\n",
      "          -100,  -100,  -100,  -100,  -100,  -100,  -100,  -100,  -100,  -100,\n",
      "          -100,  -100,  -100,  -100,  -100,  -100,  -100,  -100,  -100,  -100,\n",
      "          -100,  -100,  -100,  -100,  -100,  -100,  -100,  -100,  -100,  -100,\n",
      "          -100,  -100,  -100,  -100,  -100,  -100,  -100,  -100],\n",
      "        [  736,   989,     7,     8, 18524, 19764,  3636,    12,   370,    41,\n",
      "         13089,    52,  1665,   120,    61,    21,     8,   529, 28665,  3812,\n",
      "          1890,    13,  2485,    45,  4717,   422,   268,  1519,    12,   430,\n",
      "           422,   268,  1519,     5,     1,  -100,  -100,  -100,  -100,  -100,\n",
      "          -100,  -100,  -100,  -100,  -100,  -100,  -100,  -100,  -100,  -100,\n",
      "          -100,  -100,  -100,  -100,  -100,  -100,  -100,  -100,  -100,  -100,\n",
      "          -100,  -100,  -100,  -100,  -100,  -100,  -100,  -100,  -100,  -100,\n",
      "          -100,  -100,  -100,  -100,  -100,  -100,  -100,  -100,  -100,  -100,\n",
      "          -100,  -100,  -100,  -100,  -100,  -100,  -100,  -100,  -100,  -100,\n",
      "          -100,  -100,  -100,  -100,  -100,  -100,  -100,  -100,  -100,  -100,\n",
      "          -100,  -100,  -100,  -100,  -100,  -100,  -100,  -100,  -100,  -100,\n",
      "          -100,  -100,  -100,  -100,  -100,  -100,  -100,  -100,  -100,  -100,\n",
      "          -100,  -100,  -100,  -100,  -100,  -100,  -100,  -100]])}\n"
     ]
    }
   ],
   "source": [
    "# Visualize examples\n",
    "for batch in train_dataloader:\n",
    "    print(batch)\n",
    "    break"
   ]
  }
 ],
 "metadata": {
  "kernelspec": {
   "display_name": "text_summarization_with_T5ForConditionalGeneration",
   "language": "python",
   "name": "python3"
  },
  "language_info": {
   "codemirror_mode": {
    "name": "ipython",
    "version": 3
   },
   "file_extension": ".py",
   "mimetype": "text/x-python",
   "name": "python",
   "nbconvert_exporter": "python",
   "pygments_lexer": "ipython3",
   "version": "3.11.11"
  }
 },
 "nbformat": 4,
 "nbformat_minor": 4
}
